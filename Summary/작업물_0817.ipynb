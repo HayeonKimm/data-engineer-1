{
 "cells": [
  {
   "cell_type": "markdown",
   "id": "f25891a6",
   "metadata": {},
   "source": [
    "## preprocessing\n",
    "### 김하연"
   ]
  },
  {
   "cell_type": "code",
   "execution_count": 50,
   "id": "e35088d7",
   "metadata": {},
   "outputs": [],
   "source": [
    "from sklearn.model_selection import cross_val_score\n",
    "from sklearn.ensemble import RandomForestRegressor\n",
    "from sklearn.model_selection import train_test_split\n",
    "import numpy as np\n",
    "import pandas as pd\n",
    "import matplotlib.pyplot as plt\n",
    "import seaborn as sns\n",
    "from sklearn.ensemble import RandomForestRegressor\n",
    "from sklearn.metrics import mean_absolute_error"
   ]
  },
  {
   "cell_type": "code",
   "execution_count": 51,
   "id": "c0677ac3",
   "metadata": {},
   "outputs": [
    {
     "data": {
      "text/html": [
       "<div>\n",
       "<style scoped>\n",
       "    .dataframe tbody tr th:only-of-type {\n",
       "        vertical-align: middle;\n",
       "    }\n",
       "\n",
       "    .dataframe tbody tr th {\n",
       "        vertical-align: top;\n",
       "    }\n",
       "\n",
       "    .dataframe thead th {\n",
       "        text-align: right;\n",
       "    }\n",
       "</style>\n",
       "<table border=\"1\" class=\"dataframe\">\n",
       "  <thead>\n",
       "    <tr style=\"text-align: right;\">\n",
       "      <th></th>\n",
       "      <th>plainNo</th>\n",
       "      <th>dataTm</th>\n",
       "      <th>busType</th>\n",
       "      <th>fullSectDist</th>\n",
       "      <th>isFullFlag</th>\n",
       "      <th>trnstnid</th>\n",
       "      <th>vehId</th>\n",
       "      <th>islastyn</th>\n",
       "      <th>isrunyn</th>\n",
       "      <th>lastStnId</th>\n",
       "      <th>nextStId</th>\n",
       "      <th>lastStTm</th>\n",
       "      <th>rtDist</th>\n",
       "      <th>sectDist</th>\n",
       "      <th>sectOrd</th>\n",
       "      <th>sectionId</th>\n",
       "      <th>stopFlag</th>\n",
       "      <th>congetion</th>\n",
       "      <th>gpsX</th>\n",
       "      <th>gpsY</th>\n",
       "    </tr>\n",
       "  </thead>\n",
       "  <tbody>\n",
       "    <tr>\n",
       "      <th>0</th>\n",
       "      <td>서울74사2506</td>\n",
       "      <td>20210811095541</td>\n",
       "      <td>1</td>\n",
       "      <td>0.981</td>\n",
       "      <td>0</td>\n",
       "      <td>121000986</td>\n",
       "      <td>113062090</td>\n",
       "      <td>0</td>\n",
       "      <td>1</td>\n",
       "      <td>113000020</td>\n",
       "      <td>113000026</td>\n",
       "      <td>12379</td>\n",
       "      <td>55.28</td>\n",
       "      <td>0.043</td>\n",
       "      <td>1</td>\n",
       "      <td>113600767</td>\n",
       "      <td>0</td>\n",
       "      <td>0</td>\n",
       "      <td>126.880282</td>\n",
       "      <td>37.577746</td>\n",
       "    </tr>\n",
       "    <tr>\n",
       "      <th>1</th>\n",
       "      <td>서울74사1363</td>\n",
       "      <td>20210811095548</td>\n",
       "      <td>1</td>\n",
       "      <td>0.364</td>\n",
       "      <td>0</td>\n",
       "      <td>121000986</td>\n",
       "      <td>113062102</td>\n",
       "      <td>0</td>\n",
       "      <td>1</td>\n",
       "      <td>113000204</td>\n",
       "      <td>111000005</td>\n",
       "      <td>11873</td>\n",
       "      <td>55.28</td>\n",
       "      <td>0.120</td>\n",
       "      <td>5</td>\n",
       "      <td>113604856</td>\n",
       "      <td>0</td>\n",
       "      <td>0</td>\n",
       "      <td>126.888812</td>\n",
       "      <td>37.579311</td>\n",
       "    </tr>\n",
       "    <tr>\n",
       "      <th>2</th>\n",
       "      <td>서울75사1366</td>\n",
       "      <td>20210811095545</td>\n",
       "      <td>0</td>\n",
       "      <td>0.794</td>\n",
       "      <td>0</td>\n",
       "      <td>121000986</td>\n",
       "      <td>113062131</td>\n",
       "      <td>0</td>\n",
       "      <td>1</td>\n",
       "      <td>111000005</td>\n",
       "      <td>111000007</td>\n",
       "      <td>11435</td>\n",
       "      <td>55.28</td>\n",
       "      <td>0.219</td>\n",
       "      <td>10</td>\n",
       "      <td>111600004</td>\n",
       "      <td>0</td>\n",
       "      <td>0</td>\n",
       "      <td>126.895163</td>\n",
       "      <td>37.582246</td>\n",
       "    </tr>\n",
       "    <tr>\n",
       "      <th>3</th>\n",
       "      <td>서울74사4110</td>\n",
       "      <td>20210811095552</td>\n",
       "      <td>1</td>\n",
       "      <td>0.825</td>\n",
       "      <td>0</td>\n",
       "      <td>121000986</td>\n",
       "      <td>113062335</td>\n",
       "      <td>0</td>\n",
       "      <td>1</td>\n",
       "      <td>112000008</td>\n",
       "      <td>112000014</td>\n",
       "      <td>10759</td>\n",
       "      <td>55.28</td>\n",
       "      <td>0.529</td>\n",
       "      <td>16</td>\n",
       "      <td>112602251</td>\n",
       "      <td>0</td>\n",
       "      <td>3</td>\n",
       "      <td>126.929481</td>\n",
       "      <td>37.564210</td>\n",
       "    </tr>\n",
       "    <tr>\n",
       "      <th>4</th>\n",
       "      <td>서울74사2432</td>\n",
       "      <td>20210811095548</td>\n",
       "      <td>1</td>\n",
       "      <td>2.201</td>\n",
       "      <td>0</td>\n",
       "      <td>121000986</td>\n",
       "      <td>113062162</td>\n",
       "      <td>0</td>\n",
       "      <td>1</td>\n",
       "      <td>112000016</td>\n",
       "      <td>112000050</td>\n",
       "      <td>10333</td>\n",
       "      <td>55.28</td>\n",
       "      <td>0.481</td>\n",
       "      <td>20</td>\n",
       "      <td>112603553</td>\n",
       "      <td>0</td>\n",
       "      <td>3</td>\n",
       "      <td>126.945698</td>\n",
       "      <td>37.564674</td>\n",
       "    </tr>\n",
       "    <tr>\n",
       "      <th>...</th>\n",
       "      <td>...</td>\n",
       "      <td>...</td>\n",
       "      <td>...</td>\n",
       "      <td>...</td>\n",
       "      <td>...</td>\n",
       "      <td>...</td>\n",
       "      <td>...</td>\n",
       "      <td>...</td>\n",
       "      <td>...</td>\n",
       "      <td>...</td>\n",
       "      <td>...</td>\n",
       "      <td>...</td>\n",
       "      <td>...</td>\n",
       "      <td>...</td>\n",
       "      <td>...</td>\n",
       "      <td>...</td>\n",
       "      <td>...</td>\n",
       "      <td>...</td>\n",
       "      <td>...</td>\n",
       "      <td>...</td>\n",
       "    </tr>\n",
       "    <tr>\n",
       "      <th>71662</th>\n",
       "      <td>서울70사6587</td>\n",
       "      <td>20210816135655</td>\n",
       "      <td>1</td>\n",
       "      <td>1.370</td>\n",
       "      <td>0</td>\n",
       "      <td>121000986</td>\n",
       "      <td>113062078</td>\n",
       "      <td>0</td>\n",
       "      <td>1</td>\n",
       "      <td>121000016</td>\n",
       "      <td>101000002</td>\n",
       "      <td>3339</td>\n",
       "      <td>55.28</td>\n",
       "      <td>0.100</td>\n",
       "      <td>61</td>\n",
       "      <td>121607076</td>\n",
       "      <td>0</td>\n",
       "      <td>3</td>\n",
       "      <td>127.020477</td>\n",
       "      <td>37.513484</td>\n",
       "    </tr>\n",
       "    <tr>\n",
       "      <th>71663</th>\n",
       "      <td>서울74사6205</td>\n",
       "      <td>20210816135511</td>\n",
       "      <td>1</td>\n",
       "      <td>3.317</td>\n",
       "      <td>0</td>\n",
       "      <td>121000986</td>\n",
       "      <td>113062062</td>\n",
       "      <td>0</td>\n",
       "      <td>1</td>\n",
       "      <td>102000068</td>\n",
       "      <td>101000002</td>\n",
       "      <td>2887</td>\n",
       "      <td>55.28</td>\n",
       "      <td>1.422</td>\n",
       "      <td>64</td>\n",
       "      <td>101604644</td>\n",
       "      <td>0</td>\n",
       "      <td>3</td>\n",
       "      <td>127.002644</td>\n",
       "      <td>37.541475</td>\n",
       "    </tr>\n",
       "    <tr>\n",
       "      <th>71664</th>\n",
       "      <td>서울74사5459</td>\n",
       "      <td>20210816135649</td>\n",
       "      <td>0</td>\n",
       "      <td>0.070</td>\n",
       "      <td>0</td>\n",
       "      <td>121000986</td>\n",
       "      <td>113062380</td>\n",
       "      <td>0</td>\n",
       "      <td>1</td>\n",
       "      <td>112000438</td>\n",
       "      <td>112000017</td>\n",
       "      <td>1632</td>\n",
       "      <td>55.28</td>\n",
       "      <td>0.000</td>\n",
       "      <td>74</td>\n",
       "      <td>112603901</td>\n",
       "      <td>1</td>\n",
       "      <td>3</td>\n",
       "      <td>126.960256</td>\n",
       "      <td>37.572137</td>\n",
       "    </tr>\n",
       "    <tr>\n",
       "      <th>71665</th>\n",
       "      <td>서울74사4605</td>\n",
       "      <td>20210816135655</td>\n",
       "      <td>0</td>\n",
       "      <td>1.819</td>\n",
       "      <td>0</td>\n",
       "      <td>121000986</td>\n",
       "      <td>113062130</td>\n",
       "      <td>0</td>\n",
       "      <td>1</td>\n",
       "      <td>112000187</td>\n",
       "      <td>112000017</td>\n",
       "      <td>1603</td>\n",
       "      <td>55.28</td>\n",
       "      <td>1.574</td>\n",
       "      <td>75</td>\n",
       "      <td>112603446</td>\n",
       "      <td>0</td>\n",
       "      <td>3</td>\n",
       "      <td>126.945883</td>\n",
       "      <td>37.565236</td>\n",
       "    </tr>\n",
       "    <tr>\n",
       "      <th>71666</th>\n",
       "      <td>서울74사7608</td>\n",
       "      <td>20210816135657</td>\n",
       "      <td>1</td>\n",
       "      <td>0.821</td>\n",
       "      <td>0</td>\n",
       "      <td>121000986</td>\n",
       "      <td>113062016</td>\n",
       "      <td>0</td>\n",
       "      <td>1</td>\n",
       "      <td>111000008</td>\n",
       "      <td>111000008</td>\n",
       "      <td>501</td>\n",
       "      <td>55.28</td>\n",
       "      <td>0.072</td>\n",
       "      <td>85</td>\n",
       "      <td>111600008</td>\n",
       "      <td>1</td>\n",
       "      <td>3</td>\n",
       "      <td>126.901063</td>\n",
       "      <td>37.578743</td>\n",
       "    </tr>\n",
       "  </tbody>\n",
       "</table>\n",
       "<p>71667 rows × 20 columns</p>\n",
       "</div>"
      ],
      "text/plain": [
       "         plainNo          dataTm  busType  fullSectDist  isFullFlag  \\\n",
       "0      서울74사2506  20210811095541        1         0.981           0   \n",
       "1      서울74사1363  20210811095548        1         0.364           0   \n",
       "2      서울75사1366  20210811095545        0         0.794           0   \n",
       "3      서울74사4110  20210811095552        1         0.825           0   \n",
       "4      서울74사2432  20210811095548        1         2.201           0   \n",
       "...          ...             ...      ...           ...         ...   \n",
       "71662  서울70사6587  20210816135655        1         1.370           0   \n",
       "71663  서울74사6205  20210816135511        1         3.317           0   \n",
       "71664  서울74사5459  20210816135649        0         0.070           0   \n",
       "71665  서울74사4605  20210816135655        0         1.819           0   \n",
       "71666  서울74사7608  20210816135657        1         0.821           0   \n",
       "\n",
       "        trnstnid      vehId  islastyn  isrunyn  lastStnId   nextStId  \\\n",
       "0      121000986  113062090         0        1  113000020  113000026   \n",
       "1      121000986  113062102         0        1  113000204  111000005   \n",
       "2      121000986  113062131         0        1  111000005  111000007   \n",
       "3      121000986  113062335         0        1  112000008  112000014   \n",
       "4      121000986  113062162         0        1  112000016  112000050   \n",
       "...          ...        ...       ...      ...        ...        ...   \n",
       "71662  121000986  113062078         0        1  121000016  101000002   \n",
       "71663  121000986  113062062         0        1  102000068  101000002   \n",
       "71664  121000986  113062380         0        1  112000438  112000017   \n",
       "71665  121000986  113062130         0        1  112000187  112000017   \n",
       "71666  121000986  113062016         0        1  111000008  111000008   \n",
       "\n",
       "       lastStTm  rtDist  sectDist  sectOrd  sectionId  stopFlag  congetion  \\\n",
       "0         12379   55.28     0.043        1  113600767         0          0   \n",
       "1         11873   55.28     0.120        5  113604856         0          0   \n",
       "2         11435   55.28     0.219       10  111600004         0          0   \n",
       "3         10759   55.28     0.529       16  112602251         0          3   \n",
       "4         10333   55.28     0.481       20  112603553         0          3   \n",
       "...         ...     ...       ...      ...        ...       ...        ...   \n",
       "71662      3339   55.28     0.100       61  121607076         0          3   \n",
       "71663      2887   55.28     1.422       64  101604644         0          3   \n",
       "71664      1632   55.28     0.000       74  112603901         1          3   \n",
       "71665      1603   55.28     1.574       75  112603446         0          3   \n",
       "71666       501   55.28     0.072       85  111600008         1          3   \n",
       "\n",
       "             gpsX       gpsY  \n",
       "0      126.880282  37.577746  \n",
       "1      126.888812  37.579311  \n",
       "2      126.895163  37.582246  \n",
       "3      126.929481  37.564210  \n",
       "4      126.945698  37.564674  \n",
       "...           ...        ...  \n",
       "71662  127.020477  37.513484  \n",
       "71663  127.002644  37.541475  \n",
       "71664  126.960256  37.572137  \n",
       "71665  126.945883  37.565236  \n",
       "71666  126.901063  37.578743  \n",
       "\n",
       "[71667 rows x 20 columns]"
      ]
     },
     "execution_count": 51,
     "metadata": {},
     "output_type": "execute_result"
    }
   ],
   "source": [
    "bus_df = pd.read_csv('data.csv',encoding='cp949')\n",
    "y_bus_df = bus_df['nextStTm']\n",
    "X_bus_df= bus_df.drop('nextStTm',axis=1)\n",
    "\n",
    "# X_bus_df = transform_features(X_bus_df)\n",
    "X_bus_df"
   ]
  },
  {
   "cell_type": "code",
   "execution_count": 52,
   "id": "c0dacfb2",
   "metadata": {},
   "outputs": [],
   "source": [
    "X_bus_df.drop(['plainNo'],axis=1,inplace=True)"
   ]
  },
  {
   "cell_type": "code",
   "execution_count": 53,
   "id": "19c212ab",
   "metadata": {},
   "outputs": [
    {
     "data": {
      "text/html": [
       "<div>\n",
       "<style scoped>\n",
       "    .dataframe tbody tr th:only-of-type {\n",
       "        vertical-align: middle;\n",
       "    }\n",
       "\n",
       "    .dataframe tbody tr th {\n",
       "        vertical-align: top;\n",
       "    }\n",
       "\n",
       "    .dataframe thead th {\n",
       "        text-align: right;\n",
       "    }\n",
       "</style>\n",
       "<table border=\"1\" class=\"dataframe\">\n",
       "  <thead>\n",
       "    <tr style=\"text-align: right;\">\n",
       "      <th></th>\n",
       "      <th>dataTm</th>\n",
       "      <th>busType</th>\n",
       "      <th>fullSectDist</th>\n",
       "      <th>isFullFlag</th>\n",
       "      <th>trnstnid</th>\n",
       "      <th>vehId</th>\n",
       "      <th>islastyn</th>\n",
       "      <th>isrunyn</th>\n",
       "      <th>lastStnId</th>\n",
       "      <th>nextStId</th>\n",
       "      <th>lastStTm</th>\n",
       "      <th>rtDist</th>\n",
       "      <th>sectDist</th>\n",
       "      <th>sectOrd</th>\n",
       "      <th>sectionId</th>\n",
       "      <th>stopFlag</th>\n",
       "      <th>congetion</th>\n",
       "      <th>gpsX</th>\n",
       "      <th>gpsY</th>\n",
       "    </tr>\n",
       "  </thead>\n",
       "  <tbody>\n",
       "    <tr>\n",
       "      <th>0</th>\n",
       "      <td>20210811095541</td>\n",
       "      <td>1</td>\n",
       "      <td>0.981</td>\n",
       "      <td>0</td>\n",
       "      <td>121000986</td>\n",
       "      <td>113062090</td>\n",
       "      <td>0</td>\n",
       "      <td>1</td>\n",
       "      <td>113000020</td>\n",
       "      <td>113000026</td>\n",
       "      <td>12379</td>\n",
       "      <td>55.28</td>\n",
       "      <td>0.043</td>\n",
       "      <td>1</td>\n",
       "      <td>113600767</td>\n",
       "      <td>0</td>\n",
       "      <td>0</td>\n",
       "      <td>126.880282</td>\n",
       "      <td>37.577746</td>\n",
       "    </tr>\n",
       "  </tbody>\n",
       "</table>\n",
       "</div>"
      ],
      "text/plain": [
       "           dataTm  busType  fullSectDist  isFullFlag   trnstnid      vehId  \\\n",
       "0  20210811095541        1         0.981           0  121000986  113062090   \n",
       "\n",
       "   islastyn  isrunyn  lastStnId   nextStId  lastStTm  rtDist  sectDist  \\\n",
       "0         0        1  113000020  113000026     12379   55.28     0.043   \n",
       "\n",
       "   sectOrd  sectionId  stopFlag  congetion        gpsX       gpsY  \n",
       "0        1  113600767         0          0  126.880282  37.577746  "
      ]
     },
     "execution_count": 53,
     "metadata": {},
     "output_type": "execute_result"
    }
   ],
   "source": [
    "X_bus_df.head(1)"
   ]
  },
  {
   "cell_type": "code",
   "execution_count": 54,
   "id": "ed678dfd",
   "metadata": {},
   "outputs": [],
   "source": [
    "X_bus_df['dataTm']=X_bus_df['dataTm'].astype(str)"
   ]
  },
  {
   "cell_type": "code",
   "execution_count": 55,
   "id": "1eb417c6",
   "metadata": {},
   "outputs": [],
   "source": [
    "X_bus_df['dataTm']= X_bus_df['dataTm'].str[8:12]"
   ]
  },
  {
   "cell_type": "code",
   "execution_count": 56,
   "id": "1a22adc3",
   "metadata": {},
   "outputs": [
    {
     "data": {
      "text/html": [
       "<div>\n",
       "<style scoped>\n",
       "    .dataframe tbody tr th:only-of-type {\n",
       "        vertical-align: middle;\n",
       "    }\n",
       "\n",
       "    .dataframe tbody tr th {\n",
       "        vertical-align: top;\n",
       "    }\n",
       "\n",
       "    .dataframe thead th {\n",
       "        text-align: right;\n",
       "    }\n",
       "</style>\n",
       "<table border=\"1\" class=\"dataframe\">\n",
       "  <thead>\n",
       "    <tr style=\"text-align: right;\">\n",
       "      <th></th>\n",
       "      <th>dataTm</th>\n",
       "      <th>busType</th>\n",
       "      <th>fullSectDist</th>\n",
       "      <th>isFullFlag</th>\n",
       "      <th>trnstnid</th>\n",
       "      <th>vehId</th>\n",
       "      <th>islastyn</th>\n",
       "      <th>isrunyn</th>\n",
       "      <th>lastStnId</th>\n",
       "      <th>nextStId</th>\n",
       "      <th>lastStTm</th>\n",
       "      <th>rtDist</th>\n",
       "      <th>sectDist</th>\n",
       "      <th>sectOrd</th>\n",
       "      <th>sectionId</th>\n",
       "      <th>stopFlag</th>\n",
       "      <th>congetion</th>\n",
       "      <th>gpsX</th>\n",
       "      <th>gpsY</th>\n",
       "    </tr>\n",
       "  </thead>\n",
       "  <tbody>\n",
       "    <tr>\n",
       "      <th>0</th>\n",
       "      <td>0955</td>\n",
       "      <td>1</td>\n",
       "      <td>0.981</td>\n",
       "      <td>0</td>\n",
       "      <td>121000986</td>\n",
       "      <td>113062090</td>\n",
       "      <td>0</td>\n",
       "      <td>1</td>\n",
       "      <td>113000020</td>\n",
       "      <td>113000026</td>\n",
       "      <td>12379</td>\n",
       "      <td>55.28</td>\n",
       "      <td>0.043</td>\n",
       "      <td>1</td>\n",
       "      <td>113600767</td>\n",
       "      <td>0</td>\n",
       "      <td>0</td>\n",
       "      <td>126.880282</td>\n",
       "      <td>37.577746</td>\n",
       "    </tr>\n",
       "  </tbody>\n",
       "</table>\n",
       "</div>"
      ],
      "text/plain": [
       "  dataTm  busType  fullSectDist  isFullFlag   trnstnid      vehId  islastyn  \\\n",
       "0   0955        1         0.981           0  121000986  113062090         0   \n",
       "\n",
       "   isrunyn  lastStnId   nextStId  lastStTm  rtDist  sectDist  sectOrd  \\\n",
       "0        1  113000020  113000026     12379   55.28     0.043        1   \n",
       "\n",
       "   sectionId  stopFlag  congetion        gpsX       gpsY  \n",
       "0  113600767         0          0  126.880282  37.577746  "
      ]
     },
     "execution_count": 56,
     "metadata": {},
     "output_type": "execute_result"
    }
   ],
   "source": [
    "X_bus_df.head(1)"
   ]
  },
  {
   "cell_type": "code",
   "execution_count": 57,
   "id": "1ac53c5d",
   "metadata": {},
   "outputs": [],
   "source": [
    "X_bus_df['dataTm']=X_bus_df['dataTm'].apply(pd.to_numeric)"
   ]
  },
  {
   "cell_type": "code",
   "execution_count": 58,
   "id": "80263da7",
   "metadata": {},
   "outputs": [],
   "source": [
    "bus_df['dataTm']=bus_df['dataTm'].astype(str)"
   ]
  },
  {
   "cell_type": "code",
   "execution_count": 59,
   "id": "0f7674f5",
   "metadata": {},
   "outputs": [
    {
     "data": {
      "text/plain": [
       "Index(['plainNo', 'dataTm', 'busType', 'fullSectDist', 'isFullFlag',\n",
       "       'trnstnid', 'vehId', 'islastyn', 'isrunyn', 'lastStnId', 'nextStId',\n",
       "       'lastStTm', 'rtDist', 'sectDist', 'sectOrd', 'sectionId', 'stopFlag',\n",
       "       'congetion', 'gpsX', 'gpsY', 'nextStTm'],\n",
       "      dtype='object')"
      ]
     },
     "execution_count": 59,
     "metadata": {},
     "output_type": "execute_result"
    }
   ],
   "source": [
    "bus_df.columns"
   ]
  },
  {
   "cell_type": "code",
   "execution_count": 71,
   "id": "e1e65b94",
   "metadata": {},
   "outputs": [],
   "source": [
    "%matplotlib inline"
   ]
  },
  {
   "cell_type": "code",
   "execution_count": 72,
   "id": "120dd81d",
   "metadata": {},
   "outputs": [
    {
     "data": {
      "image/png": "[encoded data removed]",
      "text/plain": [
       "<Figure size 1152x576 with 8 Axes>"
      ]
     },
     "metadata": {
      "needs_background": "light"
     },
     "output_type": "display_data"
    }
   ],
   "source": [
    "# 2개의 행과 4개의 열을 가진 subplots를 이용. axs는 4x2개의 ax를 가짐.\n",
    "fig, axs = plt.subplots(figsize=(16,8) , ncols=4 , nrows=2)\n",
    "lm_features = ['busType', 'fullSectDist', 'isFullFlag',\n",
    "       'lastStnId', 'nextStId',\n",
    "        'sectionId', 'stopFlag',\n",
    "       'congetion']\n",
    "for i , feature in enumerate(lm_features):\n",
    "    row = int(i/4)\n",
    "    col = i%4\n",
    "    # 시본의 regplot을 이용해 산점도와 선형 회귀 직선을 함께 표현\n",
    "    sns.regplot(x=feature , y='nextStTm',data=bus_df , ax=axs[row][col])"
   ]
  },
  {
   "cell_type": "markdown",
   "id": "b744d4fa",
   "metadata": {},
   "source": [
    "## MinMaxScaler"
   ]
  },
  {
   "cell_type": "code",
   "execution_count": 61,
   "id": "8fbf122b",
   "metadata": {},
   "outputs": [],
   "source": [
    "bus_df=bus_df.drop({'plainNo'},axis=1)"
   ]
  },
  {
   "cell_type": "code",
   "execution_count": 62,
   "id": "ca0e70e0",
   "metadata": {},
   "outputs": [
    {
     "data": {
      "text/plain": [
       "Index(['dataTm', 'busType', 'fullSectDist', 'isFullFlag', 'trnstnid', 'vehId',\n",
       "       'islastyn', 'isrunyn', 'lastStnId', 'nextStId', 'lastStTm', 'rtDist',\n",
       "       'sectDist', 'sectOrd', 'sectionId', 'stopFlag', 'congetion', 'gpsX',\n",
       "       'gpsY', 'nextStTm'],\n",
       "      dtype='object')"
      ]
     },
     "execution_count": 62,
     "metadata": {},
     "output_type": "execute_result"
    }
   ],
   "source": [
    "bus_df.columns"
   ]
  },
  {
   "cell_type": "code",
   "execution_count": 63,
   "id": "662b0769",
   "metadata": {},
   "outputs": [
    {
     "data": {
      "text/plain": [
       "0    55.28\n",
       "1    55.28\n",
       "2    55.28\n",
       "3    55.28\n",
       "4    55.28\n",
       "5    55.28\n",
       "6    55.28\n",
       "7    55.28\n",
       "8    55.28\n",
       "9    55.28\n",
       "Name: rtDist, dtype: float64"
      ]
     },
     "execution_count": 63,
     "metadata": {},
     "output_type": "execute_result"
    }
   ],
   "source": [
    "# bus_df.info()\n",
    "\n",
    "bus_df['rtDist'].head(10)"
   ]
  },
  {
   "cell_type": "code",
   "execution_count": 64,
   "id": "eefc67ce",
   "metadata": {
    "scrolled": true
   },
   "outputs": [
    {
     "name": "stdout",
     "output_type": "stream",
     "text": [
      "feature들의 최소 값\n",
      "dataTm          0.0\n",
      "busType         0.0\n",
      "fullSectDist    0.0\n",
      "isFullFlag      0.0\n",
      "trnstnid        0.0\n",
      "vehId           0.0\n",
      "islastyn        0.0\n",
      "isrunyn         0.0\n",
      "lastStnId       0.0\n",
      "nextStId        0.0\n",
      "lastStTm        0.0\n",
      "rtDist          0.0\n",
      "sectDist        0.0\n",
      "sectOrd         0.0\n",
      "sectionId       0.0\n",
      "stopFlag        0.0\n",
      "congetion       0.0\n",
      "gpsX            0.0\n",
      "gpsY            0.0\n",
      "nextStTm        0.0\n",
      "dtype: float64\n",
      "\n",
      "feature들의 최대 값\n",
      "dataTm          1.0\n",
      "busType         1.0\n",
      "fullSectDist    1.0\n",
      "isFullFlag      0.0\n",
      "trnstnid        0.0\n",
      "vehId           1.0\n",
      "islastyn        0.0\n",
      "isrunyn         0.0\n",
      "lastStnId       1.0\n",
      "nextStId        1.0\n",
      "lastStTm        1.0\n",
      "rtDist          0.0\n",
      "sectDist        1.0\n",
      "sectOrd         1.0\n",
      "sectionId       1.0\n",
      "stopFlag        1.0\n",
      "congetion       1.0\n",
      "gpsX            1.0\n",
      "gpsY            1.0\n",
      "nextStTm        1.0\n",
      "dtype: float64\n"
     ]
    }
   ],
   "source": [
    "from sklearn.preprocessing import MinMaxScaler\n",
    "\n",
    "# MinMaxScaler객체 생성\n",
    "scaler = MinMaxScaler()\n",
    "# MinMaxScaler 로 데이터 셋 변환. fit() 과 transform() 호출.  \n",
    "scaler.fit(bus_df)\n",
    "bus_scaled = scaler.transform(bus_df)\n",
    "\n",
    "# transform()시 scale 변환된 데이터 셋이 numpy ndarry로 반환되어 이를 DataFrame으로 변환\n",
    "bus_df_scaled = pd.DataFrame(data=bus_scaled, columns=bus_df.columns)\n",
    "print('feature들의 최소 값')\n",
    "print(bus_df_scaled.min())\n",
    "print('\\nfeature들의 최대 값')\n",
    "print(bus_df_scaled.max())"
   ]
  },
  {
   "cell_type": "code",
   "execution_count": 65,
   "id": "49af6d17",
   "metadata": {
    "scrolled": false
   },
   "outputs": [],
   "source": [
    "# # 2개의 행과 4개의 열을 가진 subplots를 이용. axs는 4x2개의 ax를 가짐.\n",
    "# fig, axs = plt.subplots(figsize=(16,8) , ncols=4 , nrows=2)\n",
    "# lm_features = ['busType', 'fullSectDist', 'isFullFlag',\n",
    "#        'lastStnId', 'nextStId',\n",
    "#         'sectionId', 'stopFlag',\n",
    "#        'congetion']\n",
    "# for i , feature in enumerate(lm_features):\n",
    "#     row = int(i/4)\n",
    "#     col = i%4\n",
    "#     # 시본의 regplot을 이용해 산점도와 선형 회귀 직선을 함께 표현\n",
    "#     sns.regplot(x=feature , y='nextStTm',data=bus_df , ax=axs[row][col])\n",
    "#     plt.show()"
   ]
  },
  {
   "cell_type": "markdown",
   "id": "4b40114a",
   "metadata": {},
   "source": [
    "## 일정하게 nextStTm을 보내진 않는듯 하다."
   ]
  },
  {
   "cell_type": "markdown",
   "id": "a22ceafd",
   "metadata": {},
   "source": [
    "#### 분단위로 dataTm을 만드니, 동일한 dataTm값이 많아졌고,\n",
    "#### 머신러닝에서는 restStTm 값도 평균값으로 계산되서 MAE값이 많이 낮아진듯. 55분이면 한 값의 평균을 지칭 = 범위가 광범위\n",
    "\n",
    "### ----------------------------------------------------------------------------\n",
    "\n",
    "#### 1. dataTm에서 일의 자리수 초까지 다 살리고, nextStTm에서 일의 자리 초 삭제하거나\n",
    "#### 2. dataTm에서 십의 자리수 초까지만 살리고 nextStTm에서 일의 자리 초를 삭제."
   ]
  },
  {
   "cell_type": "code",
   "execution_count": 74,
   "id": "a1671277",
   "metadata": {},
   "outputs": [
    {
     "data": {
      "text/html": [
       "<div>\n",
       "<style scoped>\n",
       "    .dataframe tbody tr th:only-of-type {\n",
       "        vertical-align: middle;\n",
       "    }\n",
       "\n",
       "    .dataframe tbody tr th {\n",
       "        vertical-align: top;\n",
       "    }\n",
       "\n",
       "    .dataframe thead th {\n",
       "        text-align: right;\n",
       "    }\n",
       "</style>\n",
       "<table border=\"1\" class=\"dataframe\">\n",
       "  <thead>\n",
       "    <tr style=\"text-align: right;\">\n",
       "      <th></th>\n",
       "      <th>dataTm</th>\n",
       "      <th>busType</th>\n",
       "      <th>fullSectDist</th>\n",
       "      <th>isFullFlag</th>\n",
       "      <th>trnstnid</th>\n",
       "      <th>vehId</th>\n",
       "      <th>islastyn</th>\n",
       "      <th>isrunyn</th>\n",
       "      <th>lastStnId</th>\n",
       "      <th>nextStId</th>\n",
       "      <th>lastStTm</th>\n",
       "      <th>rtDist</th>\n",
       "      <th>sectDist</th>\n",
       "      <th>sectOrd</th>\n",
       "      <th>sectionId</th>\n",
       "      <th>stopFlag</th>\n",
       "      <th>congetion</th>\n",
       "      <th>gpsX</th>\n",
       "      <th>gpsY</th>\n",
       "      <th>nextStTm</th>\n",
       "    </tr>\n",
       "  </thead>\n",
       "  <tbody>\n",
       "    <tr>\n",
       "      <th>0</th>\n",
       "      <td>20210811095541</td>\n",
       "      <td>1</td>\n",
       "      <td>0.981</td>\n",
       "      <td>0</td>\n",
       "      <td>121000986</td>\n",
       "      <td>113062090</td>\n",
       "      <td>0</td>\n",
       "      <td>1</td>\n",
       "      <td>113000020</td>\n",
       "      <td>113000026</td>\n",
       "      <td>12379</td>\n",
       "      <td>55.28</td>\n",
       "      <td>0.043</td>\n",
       "      <td>1</td>\n",
       "      <td>113600767</td>\n",
       "      <td>0</td>\n",
       "      <td>0</td>\n",
       "      <td>126.880282</td>\n",
       "      <td>37.577746</td>\n",
       "      <td>172</td>\n",
       "    </tr>\n",
       "    <tr>\n",
       "      <th>1</th>\n",
       "      <td>20210811095548</td>\n",
       "      <td>1</td>\n",
       "      <td>0.364</td>\n",
       "      <td>0</td>\n",
       "      <td>121000986</td>\n",
       "      <td>113062102</td>\n",
       "      <td>0</td>\n",
       "      <td>1</td>\n",
       "      <td>113000204</td>\n",
       "      <td>111000005</td>\n",
       "      <td>11873</td>\n",
       "      <td>55.28</td>\n",
       "      <td>0.120</td>\n",
       "      <td>5</td>\n",
       "      <td>113604856</td>\n",
       "      <td>0</td>\n",
       "      <td>0</td>\n",
       "      <td>126.888812</td>\n",
       "      <td>37.579311</td>\n",
       "      <td>447</td>\n",
       "    </tr>\n",
       "    <tr>\n",
       "      <th>2</th>\n",
       "      <td>20210811095545</td>\n",
       "      <td>0</td>\n",
       "      <td>0.794</td>\n",
       "      <td>0</td>\n",
       "      <td>121000986</td>\n",
       "      <td>113062131</td>\n",
       "      <td>0</td>\n",
       "      <td>1</td>\n",
       "      <td>111000005</td>\n",
       "      <td>111000007</td>\n",
       "      <td>11435</td>\n",
       "      <td>55.28</td>\n",
       "      <td>0.219</td>\n",
       "      <td>10</td>\n",
       "      <td>111600004</td>\n",
       "      <td>0</td>\n",
       "      <td>0</td>\n",
       "      <td>126.895163</td>\n",
       "      <td>37.582246</td>\n",
       "      <td>135</td>\n",
       "    </tr>\n",
       "    <tr>\n",
       "      <th>3</th>\n",
       "      <td>20210811095552</td>\n",
       "      <td>1</td>\n",
       "      <td>0.825</td>\n",
       "      <td>0</td>\n",
       "      <td>121000986</td>\n",
       "      <td>113062335</td>\n",
       "      <td>0</td>\n",
       "      <td>1</td>\n",
       "      <td>112000008</td>\n",
       "      <td>112000014</td>\n",
       "      <td>10759</td>\n",
       "      <td>55.28</td>\n",
       "      <td>0.529</td>\n",
       "      <td>16</td>\n",
       "      <td>112602251</td>\n",
       "      <td>0</td>\n",
       "      <td>3</td>\n",
       "      <td>126.929481</td>\n",
       "      <td>37.564210</td>\n",
       "      <td>303</td>\n",
       "    </tr>\n",
       "    <tr>\n",
       "      <th>4</th>\n",
       "      <td>20210811095548</td>\n",
       "      <td>1</td>\n",
       "      <td>2.201</td>\n",
       "      <td>0</td>\n",
       "      <td>121000986</td>\n",
       "      <td>113062162</td>\n",
       "      <td>0</td>\n",
       "      <td>1</td>\n",
       "      <td>112000016</td>\n",
       "      <td>112000050</td>\n",
       "      <td>10333</td>\n",
       "      <td>55.28</td>\n",
       "      <td>0.481</td>\n",
       "      <td>20</td>\n",
       "      <td>112603553</td>\n",
       "      <td>0</td>\n",
       "      <td>3</td>\n",
       "      <td>126.945698</td>\n",
       "      <td>37.564674</td>\n",
       "      <td>329</td>\n",
       "    </tr>\n",
       "  </tbody>\n",
       "</table>\n",
       "</div>"
      ],
      "text/plain": [
       "           dataTm  busType  fullSectDist  isFullFlag   trnstnid      vehId  \\\n",
       "0  20210811095541        1         0.981           0  121000986  113062090   \n",
       "1  20210811095548        1         0.364           0  121000986  113062102   \n",
       "2  20210811095545        0         0.794           0  121000986  113062131   \n",
       "3  20210811095552        1         0.825           0  121000986  113062335   \n",
       "4  20210811095548        1         2.201           0  121000986  113062162   \n",
       "\n",
       "   islastyn  isrunyn  lastStnId   nextStId  lastStTm  rtDist  sectDist  \\\n",
       "0         0        1  113000020  113000026     12379   55.28     0.043   \n",
       "1         0        1  113000204  111000005     11873   55.28     0.120   \n",
       "2         0        1  111000005  111000007     11435   55.28     0.219   \n",
       "3         0        1  112000008  112000014     10759   55.28     0.529   \n",
       "4         0        1  112000016  112000050     10333   55.28     0.481   \n",
       "\n",
       "   sectOrd  sectionId  stopFlag  congetion        gpsX       gpsY  nextStTm  \n",
       "0        1  113600767         0          0  126.880282  37.577746       172  \n",
       "1        5  113604856         0          0  126.888812  37.579311       447  \n",
       "2       10  111600004         0          0  126.895163  37.582246       135  \n",
       "3       16  112602251         0          3  126.929481  37.564210       303  \n",
       "4       20  112603553         0          3  126.945698  37.564674       329  "
      ]
     },
     "execution_count": 74,
     "metadata": {},
     "output_type": "execute_result"
    }
   ],
   "source": [
    "bus_df[bus_df['dataTm'].str.contains('202108110955')].head()"
   ]
  },
  {
   "cell_type": "code",
   "execution_count": 75,
   "id": "45e41d99",
   "metadata": {},
   "outputs": [
    {
     "data": {
      "text/plain": [
       "0     172\n",
       "1     447\n",
       "2     135\n",
       "3     303\n",
       "4     329\n",
       "5     609\n",
       "6     159\n",
       "7     794\n",
       "8     491\n",
       "9     530\n",
       "10    159\n",
       "11    349\n",
       "12     82\n",
       "13    476\n",
       "14     59\n",
       "15    201\n",
       "16    111\n",
       "17    159\n",
       "18    875\n",
       "19    224\n",
       "20    265\n",
       "21    211\n",
       "22     78\n",
       "23    248\n",
       "24     99\n",
       "25    100\n",
       "26    100\n",
       "40    476\n",
       "Name: nextStTm, dtype: int64"
      ]
     },
     "execution_count": 75,
     "metadata": {},
     "output_type": "execute_result"
    }
   ],
   "source": [
    "bus_df[bus_df['dataTm'].str.contains('202108110955')]['nextStTm']"
   ]
  },
  {
   "cell_type": "markdown",
   "id": "4669404f",
   "metadata": {},
   "source": [
    "# 1. dateTm 분단위로 변경 "
   ]
  },
  {
   "cell_type": "code",
   "execution_count": 76,
   "id": "11e3c919",
   "metadata": {},
   "outputs": [
    {
     "name": "stdout",
     "output_type": "stream",
     "text": [
      "Validation MAE for Random Forest Model: 9.1655\n"
     ]
    }
   ],
   "source": [
    "# y = home_data.SalePrice\n",
    "\n",
    "# features = ['LotArea', 'YearBuilt', '1stFlrSF', '2ndFlrSF', 'FullBath', 'BedroomAbvGr', 'TotRmsAbvGrd']\n",
    "\n",
    "# X = home_data[features]\n",
    "# X.head()\n",
    "\n",
    "train_X, val_X, train_y, val_y = train_test_split(X_bus_df, y_bus_df, random_state=1)\n",
    "\n",
    "\n",
    "rf_model = RandomForestRegressor(random_state = 1)\n",
    "rf_model.fit(train_X, train_y)\n",
    "rf_val_predictions = rf_model.predict(val_X)\n",
    "rf_val_mae = mean_absolute_error(rf_val_predictions, val_y)\n",
    "\n",
    "print(\"Validation MAE for Random Forest Model: {:,.4f}\".format(rf_val_mae))"
   ]
  },
  {
   "cell_type": "markdown",
   "id": "0b110763",
   "metadata": {},
   "source": [
    "# 2. y - nextStTm 분단위로 변경 "
   ]
  },
  {
   "cell_type": "code",
   "execution_count": 77,
   "id": "d5b0dd07",
   "metadata": {},
   "outputs": [],
   "source": [
    "y_bus_df=y_bus_df.astype(str)"
   ]
  },
  {
   "cell_type": "code",
   "execution_count": 78,
   "id": "ba4ea421",
   "metadata": {},
   "outputs": [],
   "source": [
    "# y_bus_df =\n",
    "y_bus_df=y_bus_df.str[:-1]"
   ]
  },
  {
   "cell_type": "code",
   "execution_count": 79,
   "id": "ee11b5ca",
   "metadata": {},
   "outputs": [
    {
     "data": {
      "text/plain": [
       "0        17\n",
       "1        44\n",
       "2        13\n",
       "3        30\n",
       "4        32\n",
       "         ..\n",
       "71662    79\n",
       "71663    33\n",
       "71664    27\n",
       "71665    24\n",
       "71666     9\n",
       "Name: nextStTm, Length: 71667, dtype: object"
      ]
     },
     "execution_count": 79,
     "metadata": {},
     "output_type": "execute_result"
    }
   ],
   "source": [
    "y_bus_df.str[:]"
   ]
  },
  {
   "cell_type": "code",
   "execution_count": 80,
   "id": "513b2ed4",
   "metadata": {},
   "outputs": [],
   "source": [
    "y_bus_df=y_bus_df.apply(pd.to_numeric)"
   ]
  },
  {
   "cell_type": "code",
   "execution_count": 81,
   "id": "6e755e80",
   "metadata": {},
   "outputs": [],
   "source": [
    "y_bus_df=y_bus_df.fillna(y_bus_df.mean())"
   ]
  },
  {
   "cell_type": "code",
   "execution_count": 82,
   "id": "85e0f18f",
   "metadata": {},
   "outputs": [
    {
     "data": {
      "text/plain": [
       "0"
      ]
     },
     "execution_count": 82,
     "metadata": {},
     "output_type": "execute_result"
    }
   ],
   "source": [
    "y_bus_df.isnull().sum()"
   ]
  },
  {
   "cell_type": "code",
   "execution_count": 83,
   "id": "530e6632",
   "metadata": {},
   "outputs": [
    {
     "name": "stdout",
     "output_type": "stream",
     "text": [
      "Validation MAE for Random Forest Model: 0.9360\n"
     ]
    }
   ],
   "source": [
    "train_X, val_X, train_y, val_y = train_test_split(X_bus_df, y_bus_df, random_state=1)\n",
    "\n",
    "\n",
    "rf_model = RandomForestRegressor(random_state = 1)\n",
    "rf_model.fit(train_X, train_y)\n",
    "rf_val_predictions = rf_model.predict(val_X)\n",
    "rf_val_mae = mean_absolute_error(rf_val_predictions, val_y)\n",
    "\n",
    "print(\"Validation MAE for Random Forest Model: {:,.4f}\".format(rf_val_mae))"
   ]
  },
  {
   "cell_type": "code",
   "execution_count": 84,
   "id": "921e9cc9",
   "metadata": {},
   "outputs": [],
   "source": [
    "# 교차검증"
   ]
  },
  {
   "cell_type": "code",
   "execution_count": null,
   "id": "fcb80878",
   "metadata": {},
   "outputs": [],
   "source": [
    "rf = RandomForestRegressor(random_state=0, n_estimators=1000)\n",
    "neg_mse_scores = cross_val_score(rf, X_bus_df, y_bus_df, scoring ='neg_mean_squared_error',cv=5)\n",
    "rmse_scores = np.sqrt(-1 * neg_mse_scores)\n",
    "avg_rmse = np.mean(rmse_scores)\n",
    "\n",
    "print('5 folds 의 개별 Negative Mse scores:', np.round(neg_mse_scores,3))\n",
    "print('5 folds 의 개별 RMSE scores:', np.round(rmse_scores,3))\n",
    "print('5 folds 의 평균 RMSE : {0:.3f}'.format(avg_rmse))"
   ]
  },
  {
   "cell_type": "markdown",
   "id": "02f96f0e",
   "metadata": {},
   "source": [
    "## 검증 및 보완"
   ]
  },
  {
   "cell_type": "markdown",
   "id": "9c8789d9",
   "metadata": {},
   "source": [
    "### 1. 시간 분단위로 수정."
   ]
  },
  {
   "cell_type": "code",
   "execution_count": null,
   "id": "85501c66",
   "metadata": {},
   "outputs": [],
   "source": [
    "import matplotlib.pyplot as plt\n",
    "import seaborn as sns"
   ]
  },
  {
   "cell_type": "code",
   "execution_count": null,
   "id": "d5522e3f",
   "metadata": {},
   "outputs": [],
   "source": [
    "lm_features=['islastyn','isrunyn','lastStnId','nextStId','lastStTm','rtDist','sectDist','sectOrd']"
   ]
  },
  {
   "cell_type": "code",
   "execution_count": null,
   "id": "e876b26b",
   "metadata": {},
   "outputs": [],
   "source": [
    "df.info()"
   ]
  },
  {
   "cell_type": "code",
   "execution_count": null,
   "id": "0321e34b",
   "metadata": {},
   "outputs": [],
   "source": [
    "df.columns"
   ]
  },
  {
   "cell_type": "code",
   "execution_count": null,
   "id": "48b59976",
   "metadata": {},
   "outputs": [],
   "source": [
    "df.head()"
   ]
  },
  {
   "cell_type": "code",
   "execution_count": null,
   "id": "f5b12473",
   "metadata": {},
   "outputs": [],
   "source": [
    "df.info()"
   ]
  },
  {
   "cell_type": "code",
   "execution_count": null,
   "id": "1ecd36d7",
   "metadata": {},
   "outputs": [],
   "source": [
    "from sklearn.linear_model import Ridge\n",
    "from sklearn.model_selection import cross_val_score"
   ]
  },
  {
   "cell_type": "markdown",
   "id": "34899a40",
   "metadata": {},
   "source": [
    "## 릿지결과 - RMSE값이 크다."
   ]
  },
  {
   "cell_type": "code",
   "execution_count": null,
   "id": "481d4dbc",
   "metadata": {},
   "outputs": [],
   "source": [
    "ridge = Ridge(alpha=10)\n",
    "neg_mse_scores = cross_val_score(ridge, X_bus_df, y_bus_df, scoring ='neg_mean_squared_error',cv=5)\n",
    "rmse_scores = np.sqrt(-1 * neg_mse_scores)\n",
    "avg_rmse = np.mean(rmse_scores)\n",
    "\n",
    "print('5 folds 의 개별 Negative Mse scores:', np.round(neg_mse_scores,3))\n",
    "print('5 folds 의 개별 RMSE scores:', np.round(rmse_scores,3))\n",
    "print('5 folds 의 평균 RMSE : {0:.3f}'.format(avg_rmse))"
   ]
  },
  {
   "cell_type": "code",
   "execution_count": null,
   "id": "7cc3e77c",
   "metadata": {},
   "outputs": [],
   "source": [
    "# import numpy as np\n",
    "# import matplotlib.pyplot as plt\n",
    "# from sklearn.pipeline import Pipeline\n",
    "# from sklearn.preprocessing import PolynomialFeatures\n",
    "# from sklearn.linear_model import LinearRegression\n",
    "# from sklearn.model_selection import cross_val_score"
   ]
  },
  {
   "cell_type": "code",
   "execution_count": null,
   "id": "1eed30de",
   "metadata": {},
   "outputs": [],
   "source": [
    "# def true_fun(X):\n",
    "#     return np.cos(1.5 * np.pi * X)\n",
    "\n",
    "# # X는 0 부터 1까지 30개의 random 값을 순서대로 sampling 한 데이타 입니다.  \n",
    "# np.random.seed(0)\n",
    "# n_samples = 30\n",
    "# X = np.sort(np.random.rand(n_samples))\n",
    "\n",
    "# # y 값은 cosine 기반의 true_fun() 에서 약간의 Noise 변동값을 더한 값입니다. \n",
    "# y = true_fun(X) + np.random.randn(n_samples) * 0.1"
   ]
  }
 ],
 "metadata": {
  "kernelspec": {
   "display_name": "Python 3",
   "language": "python",
   "name": "python3"
  },
  "language_info": {
   "codemirror_mode": {
    "name": "ipython",
    "version": 3
   },
   "file_extension": ".py",
   "mimetype": "text/x-python",
   "name": "python",
   "nbconvert_exporter": "python",
   "pygments_lexer": "ipython3",
   "version": "3.8.10"
  }
 },
 "nbformat": 4,
 "nbformat_minor": 5
}
