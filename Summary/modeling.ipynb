{
 "cells": [
  {
   "cell_type": "code",
   "execution_count": 2,
   "id": "66030cd5",
   "metadata": {},
   "outputs": [],
   "source": [
    "import pandas as pd\n",
    "import numpy as np\n",
    "import matplotlib as plt"
   ]
  },
  {
   "cell_type": "code",
   "execution_count": 17,
   "id": "896b7351",
   "metadata": {
    "scrolled": true
   },
   "outputs": [],
   "source": [
    "# 로컬에 저장한 파일\n",
    "df_bus_100100073_weather = pd.read_csv(\"df_bus_100100073_weather.csv\")"
   ]
  },
  {
   "cell_type": "code",
   "execution_count": null,
   "id": "9e0a3b21",
   "metadata": {},
   "outputs": [],
   "source": []
  },
  {
   "cell_type": "code",
   "execution_count": null,
   "id": "7cca0849",
   "metadata": {},
   "outputs": [],
   "source": []
  },
  {
   "cell_type": "code",
   "execution_count": null,
   "id": "af4d0d3a",
   "metadata": {},
   "outputs": [],
   "source": [
    "import sys\n",
    "import pyspark\n",
    "from pyspark import SparkConf, SparkContext\n",
    "from pyspark.sql import SparkSession\n",
    "from pyspark.sql.functions import explode\n",
    "import pandas as pd\n",
    "import numpy as np"
   ]
  },
  {
   "cell_type": "code",
   "execution_count": 18,
   "id": "91589ec8",
   "metadata": {},
   "outputs": [
    {
     "ename": "NameError",
     "evalue": "name 'SparkSession' is not defined",
     "output_type": "error",
     "traceback": [
      "\u001b[1;31m---------------------------------------------------------------------------\u001b[0m",
      "\u001b[1;31mNameError\u001b[0m                                 Traceback (most recent call last)",
      "\u001b[1;32m<ipython-input-18-4e344ff84f6d>\u001b[0m in \u001b[0;36m<module>\u001b[1;34m\u001b[0m\n\u001b[1;32m----> 1\u001b[1;33m \u001b[0mspark\u001b[0m \u001b[1;33m=\u001b[0m \u001b[0mSparkSession\u001b[0m\u001b[1;33m.\u001b[0m\u001b[0mbuilder\u001b[0m\u001b[1;33m.\u001b[0m\u001b[0mappName\u001b[0m\u001b[1;33m(\u001b[0m\u001b[1;34m'dataframe'\u001b[0m\u001b[1;33m)\u001b[0m\u001b[1;33m.\u001b[0m\u001b[0mgetOrCreate\u001b[0m\u001b[1;33m(\u001b[0m\u001b[1;33m)\u001b[0m\u001b[1;33m\u001b[0m\u001b[1;33m\u001b[0m\u001b[0m\n\u001b[0m\u001b[0;32m      2\u001b[0m \u001b[0mpd\u001b[0m\u001b[1;33m.\u001b[0m\u001b[0mset_option\u001b[0m\u001b[1;33m(\u001b[0m\u001b[1;34m'display.max_columns'\u001b[0m\u001b[1;33m,\u001b[0m \u001b[1;36m500\u001b[0m\u001b[1;33m)\u001b[0m\u001b[1;33m\u001b[0m\u001b[1;33m\u001b[0m\u001b[0m\n\u001b[0;32m      3\u001b[0m \u001b[0mpd\u001b[0m\u001b[1;33m.\u001b[0m\u001b[0mset_option\u001b[0m\u001b[1;33m(\u001b[0m\u001b[1;34m'display.max_rows'\u001b[0m\u001b[1;33m,\u001b[0m \u001b[1;36m500\u001b[0m\u001b[1;33m)\u001b[0m\u001b[1;33m\u001b[0m\u001b[1;33m\u001b[0m\u001b[0m\n",
      "\u001b[1;31mNameError\u001b[0m: name 'SparkSession' is not defined"
     ]
    }
   ],
   "source": [
    "spark = SparkSession.builder.appName('dataframe').getOrCreate()\n",
    "pd.set_option('display.max_columns', 500)\n",
    "pd.set_option('display.max_rows', 500)"
   ]
  },
  {
   "cell_type": "code",
   "execution_count": null,
   "id": "001babfe",
   "metadata": {},
   "outputs": [],
   "source": [
    "# 서버와 스파크 사용할 때\n",
    "df_bus_100100073_weather = pd.read_csv(\"/home/lab01/df_bus_100100073_weather.csv\")"
   ]
  },
  {
   "cell_type": "code",
   "execution_count": 19,
   "id": "cdacba5e",
   "metadata": {},
   "outputs": [],
   "source": [
    "df_bus_100100073_weather = df_bus_100100073_weather[df_bus_100100073_weather['stationNm_x'].isin(['순천향대학병원.한남오거리','신사역.푸른저축은행','논현역','지하철2호선강남역','신분당선강남역','래미안아파트.파이낸셜뉴스','뱅뱅사거리'])]\n",
    "df_bus_100100073_weather = df_bus_100100073_weather[df_bus_100100073_weather['stationNm_y'].isin(['순천향대학병원.한남오거리','신사역.푸른저축은행','논현역','지하철2호선강남역','신분당선강남역','래미안아파트.파이낸셜뉴스','뱅뱅사거리'])]"
   ]
  },
  {
   "cell_type": "code",
   "execution_count": 20,
   "id": "5c245fe3",
   "metadata": {},
   "outputs": [],
   "source": [
    "df_bus_100100073_weather['sectionId'] = df_bus_100100073_weather['sectionId'].astype('object')\n",
    "df_bus_100100073_weather['PTY'] = df_bus_100100073_weather['PTY'].astype('object')"
   ]
  },
  {
   "cell_type": "code",
   "execution_count": 21,
   "id": "4b2b595a",
   "metadata": {},
   "outputs": [],
   "source": [
    "df_bus_100100073_weather['baseDateMinute']=df_bus_100100073_weather['baseDateMinute'].astype(str)\n",
    "df_bus_100100073_weather['baseDateMinute']=df_bus_100100073_weather['baseDateMinute'].str[-4:]"
   ]
  },
  {
   "cell_type": "code",
   "execution_count": 22,
   "id": "cc5f45b3",
   "metadata": {},
   "outputs": [],
   "source": [
    "df_bus_100100073_weather['baseHr']=df_bus_100100073_weather['baseDateMinute'].str[:2]\n",
    "df_bus_100100073_weather['baseHr']=df_bus_100100073_weather['baseHr'].astype(int)\n",
    "df_bus_100100073_weather['baseMn']=df_bus_100100073_weather['baseDateMinute'].str[2:]\n",
    "df_bus_100100073_weather['baseMn']=df_bus_100100073_weather['baseMn'].astype(int)"
   ]
  },
  {
   "cell_type": "code",
   "execution_count": 23,
   "id": "351dde85",
   "metadata": {},
   "outputs": [],
   "source": [
    "#분으로만 시간 표기하기\n",
    "#1125 -> 685\n",
    "df_bus_100100073_weather['baseTm']= df_bus_100100073_weather['baseHr']*60 + df_bus_100100073_weather['baseMn']"
   ]
  },
  {
   "cell_type": "code",
   "execution_count": 24,
   "id": "e242eb14",
   "metadata": {},
   "outputs": [],
   "source": [
    "df_bus_100100073_weather = df_bus_100100073_weather.drop({'baseHr','baseMn','Unnamed: 0'},axis=1)"
   ]
  },
  {
   "cell_type": "code",
   "execution_count": 25,
   "id": "b544ea15",
   "metadata": {},
   "outputs": [],
   "source": [
    "df_bus_100100073_weather = df_bus_100100073_weather[df_bus_100100073_weather['PTY']!=-999]"
   ]
  },
  {
   "cell_type": "code",
   "execution_count": 26,
   "id": "e7a88a6d",
   "metadata": {},
   "outputs": [],
   "source": [
    "df_bus_100100073_weather['newCon'] = [x-2 if x> 2 else 0 for x in df_bus_100100073_weather['congetion']]"
   ]
  },
  {
   "cell_type": "code",
   "execution_count": null,
   "id": "8ef0f8bb",
   "metadata": {},
   "outputs": [],
   "source": []
  },
  {
   "cell_type": "code",
   "execution_count": null,
   "id": "a2b391b4",
   "metadata": {},
   "outputs": [],
   "source": []
  },
  {
   "cell_type": "code",
   "execution_count": null,
   "id": "2db4e55e",
   "metadata": {},
   "outputs": [],
   "source": []
  },
  {
   "cell_type": "code",
   "execution_count": null,
   "id": "5d37ed96",
   "metadata": {},
   "outputs": [],
   "source": [
    "from sklearn.linear_model import LinearRegression\n",
    "from sklearn.model_selection import train_test_split\n",
    "from sklearn.metrics import mean_squared_error, r2_score\n",
    "import numpy as np\n",
    "\n",
    "X_train, X_test, y_train, y_test = train_test_split(df_bus_100100073_weather[['fullSectDist','baseTm','RN1','T1H','VEC','WSD','newCon']], df_bus_100100073_weather['interval'],test_size=0.3, random_state=0)\n",
    "\n",
    "# 선형 회귀를 이용하여 학습 및 예측 수행. \n",
    "lr = LinearRegression()\n",
    "lr.fit(X_train, y_train)\n",
    "lr_preds = lr.predict(X_test)\n",
    "\n",
    "lr_mse = mean_squared_error(y_test, lr_preds)\n",
    "lr_rmse = np.sqrt(lr_mse)\n",
    "\n",
    "print('MSE : {0: .3f}, RMSE : {0: .3f}' .format(lr_mse, lr_rmse))\n",
    "print('Variance score : {0: .3f}' .format(r2_score(y_test, lr_preds)))"
   ]
  },
  {
   "cell_type": "code",
   "execution_count": null,
   "id": "b0bbf1d4",
   "metadata": {},
   "outputs": [],
   "source": [
    "R2 score는 실제 분산값과 비교한 결과로 1에 가까울 수록 정확도가 높은 것(p304) 예측 v/실제 v"
   ]
  },
  {
   "cell_type": "code",
   "execution_count": 27,
   "id": "3f930292",
   "metadata": {},
   "outputs": [
    {
     "data": {
      "image/png": "[encoded data removed]",
      "text/plain": [
       "<Figure size 1440x720 with 7 Axes>"
      ]
     },
     "metadata": {
      "needs_background": "light"
     },
     "output_type": "display_data"
    }
   ],
   "source": [
    "# 각 feature가 회귀 결과에 미치는 영향이 어느 정도인지 시각화 (linear)\n",
    "import matplotlib.pyplot as plt\n",
    "import seaborn as sns\n",
    "\n",
    "plt.figure(figsize=(20,10))\n",
    "plt.subplot(4,2,1)\n",
    "sns.regplot(x='fullSectDist',y='interval', data= df_bus_100100073_weather)\n",
    "plt.subplot(4,2,2)\n",
    "sns.regplot(x='baseTm',y='interval', data= df_bus_100100073_weather)\n",
    "plt.subplot(4,2,3)\n",
    "sns.regplot(x='RN1',y='interval', data= df_bus_100100073_weather)\n",
    "plt.subplot(4,2,4)\n",
    "sns.regplot(x='T1H',y='interval', data= df_bus_100100073_weather)\n",
    "plt.subplot(4,2,5)\n",
    "sns.regplot(x='VEC',y='interval', data= df_bus_100100073_weather)\n",
    "plt.subplot(4,2,6)\n",
    "sns.regplot(x='WSD',y='interval', data= df_bus_100100073_weather)\n",
    "plt.subplot(4,2,7)\n",
    "sns.regplot(x='newCon',y='interval', data= df_bus_100100073_weather)\n",
    "plt.show()"
   ]
  },
  {
   "cell_type": "code",
   "execution_count": null,
   "id": "8960d28f",
   "metadata": {},
   "outputs": [],
   "source": []
  },
  {
   "cell_type": "markdown",
   "id": "e032efba",
   "metadata": {},
   "source": [
    "**상단에서 가장 연관성이 높아 보였던 fullsectdist, RN1, WSD 만 넣고 linear regression을 돌린 결과**"
   ]
  },
  {
   "cell_type": "code",
   "execution_count": 31,
   "id": "a5ead7b1",
   "metadata": {},
   "outputs": [
    {
     "name": "stdout",
     "output_type": "stream",
     "text": [
      "MSE :  3.562, RMSE :  1.887\n",
      "Variance score :  0.107\n"
     ]
    }
   ],
   "source": [
    "X_train, X_test, y_train, y_test = train_test_split(df_bus_100100073_weather[['fullSectDist','WSD','RN1']], df_bus_100100073_weather['interval'],test_size=0.3, random_state=0)\n",
    "\n",
    "\n",
    "# 선형 회귀를 이용하여 학습 및 예측 수행. \n",
    "lr = LinearRegression()\n",
    "lr.fit(X_train, y_train)\n",
    "lr_preds = lr.predict(X_test)\n",
    "\n",
    "lr_mse = mean_squared_error(y_test, lr_preds)\n",
    "lr_rmse = np.sqrt(lr_mse)\n",
    "\n",
    "print('MSE : {: .3f}, RMSE : {: .3f}' .format(lr_mse, lr_rmse))\n",
    "print('Variance score : {0: .3f}' .format(r2_score(y_test, lr_preds)))"
   ]
  },
  {
   "cell_type": "code",
   "execution_count": null,
   "id": "d738999a",
   "metadata": {},
   "outputs": [],
   "source": []
  },
  {
   "cell_type": "markdown",
   "id": "80cddabd",
   "metadata": {},
   "source": [
    "**타겟 정규화**"
   ]
  },
  {
   "cell_type": "code",
   "execution_count": 32,
   "id": "b3a6b04e",
   "metadata": {},
   "outputs": [
    {
     "data": {
      "image/png": "[encoded data removed]",
      "text/plain": [
       "<Figure size 648x432 with 1 Axes>"
      ]
     },
     "metadata": {
      "needs_background": "light"
     },
     "output_type": "display_data"
    }
   ],
   "source": [
    "plt.figure(figsize=(9,6))\n",
    "df_bus_100100073_weather['interval'].hist()\n",
    "plt.show()"
   ]
  },
  {
   "cell_type": "code",
   "execution_count": 33,
   "id": "5e58e2e0",
   "metadata": {},
   "outputs": [],
   "source": [
    "log_interval = np.log1p(df_bus_100100073_weather['interval'])"
   ]
  },
  {
   "cell_type": "code",
   "execution_count": 34,
   "id": "0580441b",
   "metadata": {},
   "outputs": [
    {
     "data": {
      "image/png": "[encoded data removed]",
      "text/plain": [
       "<Figure size 648x432 with 1 Axes>"
      ]
     },
     "metadata": {
      "needs_background": "light"
     },
     "output_type": "display_data"
    }
   ],
   "source": [
    "plt.figure(figsize=(9,6))\n",
    "log_interval.hist()\n",
    "plt.show()"
   ]
  },
  {
   "cell_type": "code",
   "execution_count": 35,
   "id": "84a9c8b1",
   "metadata": {},
   "outputs": [
    {
     "name": "stdout",
     "output_type": "stream",
     "text": [
      "MSE :  0.113, RMSE :  0.337\n",
      "Variance score :  0.124\n"
     ]
    }
   ],
   "source": [
    "X_train, X_test, y_train, y_test = train_test_split(df_bus_100100073_weather[['fullSectDist','WSD','RN1']], log_interval,test_size=0.3, random_state=0)\n",
    "\n",
    "# 정규화 이후 선형 회귀를 이용하여 학습 및 예측 수행. \n",
    "lr = LinearRegression()\n",
    "lr.fit(X_train, y_train)\n",
    "lr_preds = lr.predict(X_test)\n",
    "\n",
    "lr_mse = mean_squared_error(y_test, lr_preds)\n",
    "lr_rmse = np.sqrt(lr_mse)\n",
    "\n",
    "print('MSE : {: .3f}, RMSE : {: .3f}' .format(lr_mse, lr_rmse))\n",
    "print('Variance score : {0: .3f}' .format(r2_score(y_test, lr_preds)))"
   ]
  },
  {
   "cell_type": "code",
   "execution_count": null,
   "id": "36c0960f",
   "metadata": {},
   "outputs": [],
   "source": []
  },
  {
   "cell_type": "markdown",
   "id": "16dc6623",
   "metadata": {},
   "source": [
    "**Random Forest**"
   ]
  },
  {
   "cell_type": "code",
   "execution_count": 48,
   "id": "8e050054",
   "metadata": {},
   "outputs": [
    {
     "name": "stdout",
     "output_type": "stream",
     "text": [
      "MSE :  0.346, RMSE :  0.588\n",
      "Variance score :  0.913\n"
     ]
    }
   ],
   "source": [
    "X_train, X_test, y_train, y_test = train_test_split(df_bus_100100073_weather[['sectionId','baseTm','RN1','T1H','VEC','WSD','newCon']], df_bus_100100073_weather['interval'],test_size=0.3, random_state=0)\n",
    "\n",
    "from sklearn.ensemble import RandomForestRegressor\n",
    "import pandas as pd\n",
    "import warnings\n",
    "warnings.filterwarnings('ignore')\n",
    "\n",
    "rf_clf = RandomForestRegressor(random_state = 0)\n",
    "rf_clf.fit(X_train, y_train)\n",
    "rf_pred = rf_clf.predict(X_test)\n",
    "\n",
    "rf_mse = mean_squared_error(y_test, rf_pred)\n",
    "rf_rmse = np.sqrt(rf_mse)\n",
    "\n",
    "print('MSE : {: .3f}, RMSE : {: .3f}' .format(rf_mse, rf_rmse))\n",
    "print('Variance score : {0: .3f}' .format(r2_score(y_test, rf_pred)))"
   ]
  },
  {
   "cell_type": "code",
   "execution_count": 49,
   "id": "8470e3d9",
   "metadata": {},
   "outputs": [
    {
     "name": "stdout",
     "output_type": "stream",
     "text": [
      "최적 하이퍼 파라미터 : {'max_depth': 8, 'min_samples_leaf': 1, 'min_samples_split': 2, 'n_estimators': 50}\n"
     ]
    }
   ],
   "source": [
    "from sklearn.model_selection import GridSearchCV\n",
    "\n",
    "params = {'max_depth': [8, 10, 12],\n",
    " 'min_samples_leaf': [1, 2, 4, 8],\n",
    " 'min_samples_split': [2, 5, 10],\n",
    " 'n_estimators': [50,100]}\n",
    "\n",
    "rf_clf = RandomForestRegressor(random_state = 0, n_jobs = -1)\n",
    "grid_cv = GridSearchCV(rf_clf, param_grid = params, scoring = mean_squared_error,cv = 2, n_jobs=-1)\n",
    "grid_cv.fit(X_train, y_train)\n",
    "\n",
    "print('최적 하이퍼 파라미터 : {0}' .format(grid_cv.best_params_))"
   ]
  },
  {
   "cell_type": "code",
   "execution_count": 50,
   "id": "dd61a9b1",
   "metadata": {},
   "outputs": [
    {
     "name": "stdout",
     "output_type": "stream",
     "text": [
      "MSE :  0.929, RMSE :  0.964\n",
      "Variance score :  0.767\n"
     ]
    }
   ],
   "source": [
    "# 최적의 하이퍼 파라미터를 사용하여 ramdom forest regression\n",
    "rf_clf1 = RandomForestRegressor(max_depth=8, min_samples_leaf=1, min_samples_split=2, n_estimators=50)\n",
    "\n",
    "rf_clf1.fit(X_train,y_train)\n",
    "rf1_pred = rf_clf1.predict(X_test)\n",
    "\n",
    "rf1_mse = mean_squared_error(y_test, rf1_pred)\n",
    "rf1_rmse = np.sqrt(rf1_mse)\n",
    "\n",
    "print('MSE : {: .3f}, RMSE : {: .3f}' .format(rf1_mse, rf1_rmse))\n",
    "print('Variance score : {0: .3f}' .format(r2_score(y_test, rf1_pred)))"
   ]
  },
  {
   "cell_type": "code",
   "execution_count": null,
   "id": "8d37f181",
   "metadata": {},
   "outputs": [],
   "source": []
  },
  {
   "cell_type": "markdown",
   "id": "74ad286a",
   "metadata": {},
   "source": [
    "**정규화한 interval을 바탕으로 Random Forest Regression**"
   ]
  },
  {
   "cell_type": "code",
   "execution_count": 51,
   "id": "d43ff73a",
   "metadata": {},
   "outputs": [
    {
     "name": "stdout",
     "output_type": "stream",
     "text": [
      "MSE :  0.017, RMSE :  0.130\n",
      "Variance score :  0.869\n"
     ]
    }
   ],
   "source": [
    "X_train, X_test, y_train, y_test = train_test_split(df_bus_100100073_weather[['sectionId','baseTm','RN1','T1H','VEC','WSD','newCon']],  log_interval,test_size=0.3, random_state=0)\n",
    "\n",
    "from sklearn.ensemble import RandomForestRegressor\n",
    "import pandas as pd\n",
    "import warnings\n",
    "warnings.filterwarnings('ignore')\n",
    "\n",
    "rf_clf = RandomForestRegressor(random_state = 0)\n",
    "rf_clf.fit(X_train, y_train)\n",
    "rf_pred = rf_clf.predict(X_test)\n",
    "\n",
    "rf_mse = mean_squared_error(y_test, rf_pred)\n",
    "rf_rmse = np.sqrt(rf_mse)\n",
    "\n",
    "print('MSE : {: .3f}, RMSE : {: .3f}' .format(rf_mse, rf_rmse))\n",
    "print('Variance score : {0: .3f}' .format(r2_score(y_test, rf_pred)))"
   ]
  },
  {
   "cell_type": "code",
   "execution_count": 40,
   "id": "4ba8ae49",
   "metadata": {},
   "outputs": [
    {
     "name": "stdout",
     "output_type": "stream",
     "text": [
      "최적 하이퍼 파라미터 : {'max_depth': 8, 'min_samples_leaf': 1, 'min_samples_split': 2, 'n_estimators': 50}\n"
     ]
    }
   ],
   "source": [
    "from sklearn.model_selection import GridSearchCV\n",
    "\n",
    "params = {'max_depth': [8, 10, 12],\n",
    " 'min_samples_leaf': [1, 2, 4, 8],\n",
    " 'min_samples_split': [2, 5, 10],\n",
    " 'n_estimators': [50,100]}\n",
    "\n",
    "rf_clf = RandomForestRegressor(random_state = 0, n_jobs = -1)\n",
    "grid_cv = GridSearchCV(rf_clf, param_grid = params, scoring = mean_squared_error,cv = 2, n_jobs=-1)\n",
    "grid_cv.fit(X_train, y_train)\n",
    "\n",
    "print('최적 하이퍼 파라미터 : {0}' .format(grid_cv.best_params_))"
   ]
  },
  {
   "cell_type": "code",
   "execution_count": 52,
   "id": "c456ae51",
   "metadata": {},
   "outputs": [
    {
     "name": "stdout",
     "output_type": "stream",
     "text": [
      "MSE :  0.045, RMSE :  0.213\n",
      "Variance score :  0.649\n"
     ]
    }
   ],
   "source": [
    "# 최적의 하이퍼 파라미터를 사용하여 ramdom forest regression\n",
    "rf_clf1 = RandomForestRegressor(max_depth=8, min_samples_leaf=1, min_samples_split=2, n_estimators=50)\n",
    "\n",
    "rf_clf1.fit(X_train,y_train)\n",
    "rf1_pred = rf_clf1.predict(X_test)\n",
    "\n",
    "rf1_mse = mean_squared_error(y_test, rf1_pred)\n",
    "rf1_rmse = np.sqrt(rf1_mse)\n",
    "\n",
    "print('MSE : {: .3f}, RMSE : {: .3f}' .format(rf1_mse, rf1_rmse))\n",
    "print('Variance score : {0: .3f}' .format(r2_score(y_test, rf1_pred)))"
   ]
  },
  {
   "cell_type": "markdown",
   "id": "bbeca23c",
   "metadata": {},
   "source": [
    "**가장 MSE가 낮았던 마지막 모델의 각 feature별 중요도를 시각화**"
   ]
  },
  {
   "cell_type": "code",
   "execution_count": 53,
   "id": "97907475",
   "metadata": {},
   "outputs": [
    {
     "data": {
      "image/png": "[encoded data removed]",
      "text/plain": [
       "<Figure size 936x648 with 1 Axes>"
      ]
     },
     "metadata": {
      "needs_background": "light"
     },
     "output_type": "display_data"
    }
   ],
   "source": [
    "rf_clf1 = RandomForestRegressor(max_depth=8, min_samples_leaf=1, min_samples_split=2, n_estimators=50)\n",
    "rf_clf1.fit(X_train,y_train)\n",
    "\n",
    "feature_series = pd.Series(data=rf_clf1.feature_importances_, index = X_train.columns)\n",
    "feature_series = feature_series.sort_values(ascending=True)\n",
    "plt.figure(figsize=(13,9))\n",
    "bar = sns.barplot(x= feature_series, y = feature_series.index)\n",
    "plt.show(bar)"
   ]
  },
  {
   "cell_type": "code",
   "execution_count": null,
   "id": "ababcad2",
   "metadata": {},
   "outputs": [],
   "source": []
  },
  {
   "cell_type": "code",
   "execution_count": null,
   "id": "595cf623",
   "metadata": {},
   "outputs": [],
   "source": []
  }
 ],
 "metadata": {
  "kernelspec": {
   "display_name": "Python 3",
   "language": "python",
   "name": "python3"
  },
  "language_info": {
   "codemirror_mode": {
    "name": "ipython",
    "version": 3
   },
   "file_extension": ".py",
   "mimetype": "text/x-python",
   "name": "python",
   "nbconvert_exporter": "python",
   "pygments_lexer": "ipython3",
   "version": "3.8.8"
  }
 },
 "nbformat": 4,
 "nbformat_minor": 5
}
